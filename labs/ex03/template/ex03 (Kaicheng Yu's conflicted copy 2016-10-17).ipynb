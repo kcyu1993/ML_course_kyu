{
 "cells": [
  {
   "cell_type": "code",
   "execution_count": 1,
   "metadata": {
    "collapsed": false
   },
   "outputs": [],
   "source": [
    "# Useful starting lines\n",
    "%matplotlib inline\n",
    "import numpy as np\n",
    "import matplotlib.pyplot as plt\n",
    "%load_ext autoreload\n",
    "%autoreload 2"
   ]
  },
  {
   "cell_type": "markdown",
   "metadata": {},
   "source": [
    "# Least squares and linear basis functions models\n",
    "## Least squares"
   ]
  },
  {
   "cell_type": "code",
   "execution_count": 15,
   "metadata": {
    "collapsed": false
   },
   "outputs": [],
   "source": [
    "def compute_cost_MSE(y, tx, beta):\n",
    "    \"\"\"compute the loss by mse.\"\"\"\n",
    "    e = y - tx.dot(beta)\n",
    "    mse = e.dot(e) / (2 * len(e))\n",
    "    return mse\n",
    "def compute_cost_MAE(y, tx, w):\n",
    "    y = np.array(y)\n",
    "    return np.sum(abs(y - np.dot(tx, w))) / y.shape[0]\n",
    "\n",
    "def least_squares(y, tx):\n",
    "    \"\"\"calculate the least squares solution.\"\"\"\n",
    "    # ***************************************************\n",
    "    # INSERT YOUR CODE HERE\n",
    "    # least squares: TODO\n",
    "    # returns mse, and optimal weights\n",
    "    # ***************************************************\n",
    "    weight = np.linalg.solve(np.dot(tx.T,tx), np.dot(tx.T,y))\n",
    "    return least_square_mse(y,tx, weight),weight\n",
    "    \n",
    "def least_square_mse(y, tx, w):\n",
    "    return compute_cost_MSE(y, tx, w)\n",
    "\n",
    "def rmse(y, tx, w):\n",
    "    return np.sqrt(compute_cost_MSE)"
   ]
  },
  {
   "cell_type": "markdown",
   "metadata": {},
   "source": [
    "### Load the data\n",
    "Here we will reuse the dataset `height_weight_genders.csv` from previous exercise section to check the correctness of your implementation. Please compare it with your previous result."
   ]
  },
  {
   "cell_type": "code",
   "execution_count": 3,
   "metadata": {
    "collapsed": false
   },
   "outputs": [
    {
     "name": "stdout",
     "output_type": "stream",
     "text": [
      "/Users/kyu/BaiduYun/Dropbox/EPFL/2016-2017Sem1/PRML/lab/ML_course/labs/ex03/template\n",
      "[ 73.293922    13.47971243]\n"
     ]
    }
   ],
   "source": [
    "from helpers import *\n",
    "def test_your_least_squares():\n",
    "    height, weight, gender = load_data_from_ex02(sub_sample=False, add_outlier=False)\n",
    "    x, mean_x, std_x = standardize(height)\n",
    "    y, tx = build_model_data(x, weight)\n",
    "    # ***************************************************\n",
    "    # INSERT YOUR CODE HERE\n",
    "    # least square or grid search: TODO\n",
    "    # this code should compare the optimal weights obtained \n",
    "    # by least squares vs. grid search\n",
    "    # ***************************************************\n",
    "    mse, lsq_w = least_squares(y,tx)\n",
    "    print(lsq_w)\n",
    "\n",
    "test_your_least_squares()"
   ]
  },
  {
   "cell_type": "markdown",
   "metadata": {},
   "source": [
    "## Least squares with a linear basis function model\n",
    "Start from this section, we will use the dataset `dataEx3.csv`.\n",
    "\n",
    "### Implement polynomial basis functions"
   ]
  },
  {
   "cell_type": "code",
   "execution_count": 4,
   "metadata": {
    "collapsed": false,
    "scrolled": true
   },
   "outputs": [
    {
     "name": "stdout",
     "output_type": "stream",
     "text": [
      "shape of x (50,)\n",
      "shape of y (50,)\n"
     ]
    }
   ],
   "source": [
    "# load dataset\n",
    "x, y = load_data()\n",
    "\n",
    "print(\"shape of x {}\".format(x.shape))\n",
    "print(\"shape of y {}\".format(y.shape))"
   ]
  },
  {
   "cell_type": "code",
   "execution_count": 5,
   "metadata": {
    "collapsed": false
   },
   "outputs": [],
   "source": [
    "def build_poly(x, degree):\n",
    "    \"\"\"polynomial basis functions for input data x, for j=0 up to j=degree.\"\"\"\n",
    "    # ***************************************************\n",
    "    # INSERT YOUR CODE HERE\n",
    "    # polynomial basis function: TODO\n",
    "    # this function should return the matrix formed\n",
    "    # by applying the polynomial basis to the input data\n",
    "    # ***************************************************\n",
    "    x = np.array(x)\n",
    "    res = x\n",
    "    for d in range(2, degree + 1):\n",
    "        res = np.concatenate((res, x ** d), axis=-1)\n",
    "    # print(len(x),degree)\n",
    "    # print(res)\n",
    "    res = np.reshape(res, (degree, len(x)))\n",
    "    res = np.c_[np.ones((len(res.T), 1)),res.T]\n",
    "    return res\n",
    "\n",
    "def build_poly2(x, degree):\n",
    "    \"\"\"polynomial basis function.\"\"\"\n",
    "    X = np.ones((x.shape[0], degree + 1))\n",
    "    for i in range(degree):\n",
    "        X[:, i + 1:degree + 1] *= x[:, np.newaxis]\n",
    "    return X"
   ]
  },
  {
   "cell_type": "code",
   "execution_count": 9,
   "metadata": {
    "collapsed": false
   },
   "outputs": [
    {
     "data": {
      "text/plain": [
       "array([[  1.,   0.,   0.],\n",
       "       [  1.,   1.,   1.],\n",
       "       [  1.,   2.,   4.],\n",
       "       [  1.,   3.,   9.],\n",
       "       [  1.,   4.,  16.],\n",
       "       [  1.,   5.,  25.],\n",
       "       [  1.,   6.,  36.],\n",
       "       [  1.,   7.,  49.],\n",
       "       [  1.,   8.,  64.],\n",
       "       [  1.,   9.,  81.]])"
      ]
     },
     "execution_count": 9,
     "metadata": {},
     "output_type": "execute_result"
    }
   ],
   "source": [
    "test = np.array(range(10))\n",
    "build_poly2(test,2)"
   ]
  },
  {
   "cell_type": "markdown",
   "metadata": {},
   "source": [
    "Let us play with polynomial regression. Note that we will use your implemented function `compute_mse`. Please copy and paste your implementation from exercise02."
   ]
  },
  {
   "cell_type": "code",
   "execution_count": 16,
   "metadata": {
    "collapsed": false
   },
   "outputs": [
    {
     "name": "stdout",
     "output_type": "stream",
     "text": [
      "Processing 1th experiment, degree=1, rmse=0.47187607963421874\n",
      "Processing 2th experiment, degree=3, rmse=0.25858277667737484\n",
      "Processing 3th experiment, degree=7, rmse=0.24965870360907422\n",
      "Processing 4th experiment, degree=12, rmse=0.24077021772310203\n"
     ]
    },
    {
     "data": {
      "image/png": "[encoded data removed]",
      "text/plain": [
       "<matplotlib.figure.Figure at 0x112195908>"
      ]
     },
     "metadata": {},
     "output_type": "display_data"
    }
   ],
   "source": [
    "from plots import *\n",
    "# from .build_polynomial import * \n",
    "\n",
    "def polynomial_regression():\n",
    "    \"\"\"Constructing the polynomial basis function expansion of the data,\n",
    "       and then running least squares regression.\"\"\"\n",
    "    # define parameters\n",
    "    degrees = [1, 3, 7, 12]\n",
    "    \n",
    "    # define the structure of figure\n",
    "    num_row = 2\n",
    "    num_col = 2\n",
    "    f, axs = plt.subplots(num_row, num_col)\n",
    "\n",
    "    for ind, degree in enumerate(degrees):\n",
    "        # ***************************************************\n",
    "        # INSERT YOUR CODE HERE\n",
    "        # form the data to do polynomial regression.: TODO\n",
    "        # ***************************************************\n",
    "        x_degree = build_poly(x,degree)\n",
    "        # ***************************************************\n",
    "        # INSERT YOUR CODE HERE\n",
    "        # least square and calculate rmse: TODO\n",
    "        # ***************************************************\n",
    "        lsq_degree, weight = least_squares(y,x_degree)\n",
    "#         print(weight)\n",
    "        rmse = np.sqrt(2*lsq_degree)\n",
    "        print(\"Processing {i}th experiment, degree={d}, rmse={loss}\".format(\n",
    "              i=ind + 1, d=degree, loss=rmse))\n",
    "        # plot fit\n",
    "        plot_fitted_curve(\n",
    "            y, x, weight, degree, axs[ind // num_col][ind % num_col])\n",
    "    plt.tight_layout()\n",
    "    plt.savefig(\"visualize_polynomial_regression\")\n",
    "    plt.show()\n",
    "\n",
    "\n",
    "polynomial_regression()"
   ]
  },
  {
   "cell_type": "markdown",
   "metadata": {},
   "source": [
    "# Evaluating model predication performance\n",
    "\n",
    "Let us show the train and test splits for various polynomial degrees. First of all, please fill in the function `split_data()`"
   ]
  },
  {
   "cell_type": "code",
   "execution_count": 10,
   "metadata": {
    "collapsed": false
   },
   "outputs": [
    {
     "name": "stdout",
     "output_type": "stream",
     "text": [
      "((2, 9, 6, 4, 0), (2, 9, 6, 4, 0), (3, 1, 7, 8, 5), (3, 1, 7, 8, 5))\n",
      "(array([2, 9, 6, 4, 0]), array([2, 9, 6, 4, 0]), array([3, 1, 7, 8, 5]), array([3, 1, 7, 8, 5]))\n"
     ]
    }
   ],
   "source": [
    "def split_data(x, y, ratio, seed=1):\n",
    "    \"\"\"split the dataset based on the split ratio.\"\"\"\n",
    "    # set seed\n",
    "    np.random.seed(seed)\n",
    "    # ***************************************************\n",
    "    # INSERT YOUR CODE HERE\n",
    "    # split the data based on the given ratio: TODO\n",
    "    # ***************************************************\n",
    "    # Random shuffle the index by enumerate.\n",
    "    pair = np.c_[x,y]\n",
    "    np.random.shuffle(pair)\n",
    "    index = np.round(x.size * ratio,0).astype('int16')\n",
    "    p1, p2 = np.split(pair,[index])\n",
    "    x1,y1 = zip(*p1)\n",
    "    x2,y2 = zip(*p2)\n",
    "    return x1,y1,x2,y2\n",
    "\n",
    "def split_data2(x, y, ratio, seed=1):\n",
    "    \"\"\"split the dataset based on the split ratio.\"\"\"\n",
    "    # set seed\n",
    "    np.random.seed(seed)\n",
    "\n",
    "    ntr     = round(y.shape[0] * ratio)\n",
    "    ind     = np.random.permutation(range(y.shape[0]))\n",
    "\n",
    "    x_tr    = x[ind[:ntr]]\n",
    "    x_te    = x[ind[ntr:]]\n",
    "    y_tr    = y[ind[:ntr]]\n",
    "    y_te    = y[ind[ntr:]]\n",
    "\n",
    "    return (x_tr, y_tr , x_te , y_te)\n",
    "\n",
    "test_x = np.array( range(0,10))\n",
    "test_y = np.array(range(0,10))\n",
    "print(split_data(test_x, test_y, 0.5))\n",
    "print(split_data2(test_x, test_y, 0.5))"
   ]
  },
  {
   "cell_type": "markdown",
   "metadata": {},
   "source": [
    "Then, test your `split_data` function below."
   ]
  },
  {
   "cell_type": "code",
   "execution_count": 70,
   "metadata": {
    "collapsed": false
   },
   "outputs": [
    {
     "name": "stdout",
     "output_type": "stream",
     "text": [
      "proportion=0.9, degree=1, Training RMSE=0.494, Testing RMSE=0.256\n",
      "proportion=0.9, degree=3, Training RMSE=0.264, Testing RMSE=0.292\n",
      "proportion=0.9, degree=7, Training RMSE=0.254, Testing RMSE=0.311\n",
      "proportion=0.9, degree=12, Training RMSE=0.243, Testing RMSE=0.360\n",
      "proportion=0.5, degree=1, Training RMSE=0.455, Testing RMSE=0.751\n",
      "proportion=0.5, degree=3, Training RMSE=0.239, Testing RMSE=0.419\n",
      "proportion=0.5, degree=7, Training RMSE=0.232, Testing RMSE=0.402\n",
      "proportion=0.5, degree=12, Training RMSE=0.205, Testing RMSE=2.119\n",
      "proportion=0.1, degree=1, Training RMSE=0.428, Testing RMSE=0.755\n",
      "proportion=0.1, degree=3, Training RMSE=0.085, Testing RMSE=0.650\n",
      "proportion=0.1, degree=7, Training RMSE=0.000, Testing RMSE=2.805\n",
      "proportion=0.1, degree=12, Training RMSE=0.000, Testing RMSE=8.085\n"
     ]
    }
   ],
   "source": [
    "def train_test_split_demo(x, y, degree, ratio, seed):\n",
    "    \"\"\"polynomial regression with different split ratios and different degrees.\"\"\"\n",
    "    # ***************************************************\n",
    "    # INSERT YOUR CODE HERE\n",
    "    # split the data, and return train and test data: TODO\n",
    "    # ***************************************************\n",
    "    trainX,trainY,testX,testY = split_data(x,y,ratio,seed)\n",
    "    # ***************************************************\n",
    "    # INSERT YOUR CODE HERE\n",
    "    # form train and test data with polynomial basis function: TODO\n",
    "    # ***************************************************\n",
    "    #     print(len(trainX))\n",
    "    # trainX = np.c_[np.ones((len(trainX),1)), build_poly(trainX,degree)]\n",
    "    # testX = np.c_[np.ones((len(testX),1)), build_poly(testX,degree)]\n",
    "    trainX = build_poly(trainX, degree)\n",
    "    testX = build_poly(testX, degree)\n",
    "    # ***************************************************\n",
    "    # INSERT YOUR CODE HERE\n",
    "    # calcualte weight through least square.: TODO\n",
    "    # ***************************************************\n",
    "    mse, weight = least_squares(trainY,trainX)\n",
    "    # ***************************************************\n",
    "    # INSERT YOUR CODE HERE\n",
    "    # calculate RMSE for train and test data,\n",
    "    # and store them in rmse_tr and rmse_te respectively: TODO\n",
    "    # ***************************************************\n",
    "    mse_test = np.sum((testY-np.dot(testX,weight))**2)/len(testY)\n",
    "    rmse_tr = np.sqrt(2*mse)\n",
    "    rmse_te = np.sqrt(2*mse_test)\n",
    "    print(\"proportion={p}, degree={d}, Training RMSE={tr:.3f}, Testing RMSE={te:.3f}\".format(\n",
    "          p=ratio, d=degree, tr=rmse_tr, te=rmse_te))\n",
    "\n",
    "seed = 6\n",
    "degrees = [1,3, 7, 12]\n",
    "split_ratios = [0.9, 0.5, 0.1]\n",
    "\n",
    "for split_ratio in split_ratios:\n",
    "    for degree in degrees:\n",
    "        train_test_split_demo(x, y, degree, split_ratio, seed)"
   ]
  },
  {
   "cell_type": "markdown",
   "metadata": {},
   "source": [
    "# Ridge Regression\n",
    "Please fill in the function below."
   ]
  },
  {
   "cell_type": "code",
   "execution_count": 11,
   "metadata": {
    "collapsed": false
   },
   "outputs": [],
   "source": [
    "def ridge_regression(y, tx, lamb):\n",
    "    \"\"\"implement ridge regression.\"\"\"\n",
    "    # ***************************************************\n",
    "    # INSERT YOUR CODE HERE\n",
    "    # ridge regression: TODO\n",
    "    # ***************************************************\n",
    "    # Hes = tx.T * tx + 2*N*lambda * I_m\n",
    "    G = np.eye(tx.shape[1])\n",
    "    G[0,0] = 0\n",
    "    hes = np.dot(tx.T,tx) + lamb * G\n",
    "    weight = np.linalg.solve(hes,np.dot(tx.T,y))\n",
    "    mse = compute_cost_MSE(y, tx, weight)\n",
    "    return mse,weight"
   ]
  },
  {
   "cell_type": "code",
   "execution_count": 24,
   "metadata": {
    "collapsed": false
   },
   "outputs": [
    {
     "name": "stdout",
     "output_type": "stream",
     "text": [
      "lambda=0, proportion=0.5, degree=7, weight=8, Training RMSE=0.217, Testing RMSE=0.323\n",
      "lambda=1, proportion=0.5, degree=7, weight=8, Training RMSE=0.224, Testing RMSE=0.305\n",
      "lambda=2, proportion=0.5, degree=7, weight=8, Training RMSE=0.231, Testing RMSE=0.295\n",
      "lambda=3, proportion=0.5, degree=7, weight=8, Training RMSE=0.234, Testing RMSE=0.291\n",
      "lambda=4, proportion=0.5, degree=7, weight=8, Training RMSE=0.236, Testing RMSE=0.288\n",
      "lambda=5, proportion=0.5, degree=7, weight=8, Training RMSE=0.238, Testing RMSE=0.286\n",
      "lambda=6, proportion=0.5, degree=7, weight=8, Training RMSE=0.240, Testing RMSE=0.281\n",
      "lambda=7, proportion=0.5, degree=7, weight=8, Training RMSE=0.246, Testing RMSE=0.276\n",
      "lambda=8, proportion=0.5, degree=7, weight=8, Training RMSE=0.260, Testing RMSE=0.279\n",
      "lambda=9, proportion=0.5, degree=7, weight=8, Training RMSE=0.276, Testing RMSE=0.289\n",
      "[0.32307480932806149, 0.30495152466023245, 0.29531395286497653, 0.29095368274442795, 0.28831981102132753, 0.28552880025875027, 0.28096413912018342, 0.27619216247397876, 0.27893409779470579, 0.28912681439217724] [0.21726543034612927, 0.22448149378413448, 0.23082762618265087, 0.2343820688244091, 0.23627398265233596, 0.23780586094221573, 0.24000764566009145, 0.24600509443558061, 0.25957484990244734, 0.27553329698443407]\n"
     ]
    },
    {
     "data": {
      "image/png": "[encoded data removed]",
      "text/plain": [
       "<matplotlib.figure.Figure at 0x1120c6470>"
      ]
     },
     "metadata": {},
     "output_type": "display_data"
    }
   ],
   "source": [
    "def ridge_regression_demo(x, y, degree, ratio, seed):\n",
    "    \"\"\"ridge regression demo.\"\"\"\n",
    "    # define parameter\n",
    "    lambdas = np.logspace(-3, 1, 10)   \n",
    "    \n",
    "    trainX,trainY,testX,testY = split_data(x,y,ratio,seed)\n",
    "    trainX = build_poly(trainX,degree)\n",
    "    testX =  build_poly(testX,degree)\n",
    "    \n",
    "    _rmse_te = []\n",
    "    _rmse_tr = []\n",
    "    \n",
    "      # define the structure of figure\n",
    "#     num_row = 6\n",
    "#     num_col = 2\n",
    "#     f, axs = plt.subplots(num_row, num_col)\n",
    "\n",
    "\n",
    "    \n",
    "    for ind, lamb in enumerate(lambdas):\n",
    "        mse, weight = ridge_regression(trainY,trainX,lamb)\n",
    "        # ***************************************************\n",
    "        # INSERT YOUR CODE HERE\n",
    "        # calculate RMSE for train and test data,\n",
    "        # and store them in rmse_tr and rmse_te respectively: TODO\n",
    "        # ***************************************************\n",
    "        mse_test = compute_cost_MSE(testY, testX, weight)\n",
    "        rmse_tr = np.sqrt(2*mse)\n",
    "        rmse_te = np.sqrt(2*mse_test)\n",
    "        _rmse_te.append(rmse_te)\n",
    "        _rmse_tr.append(rmse_tr)\n",
    "        print(\"lambda={l}, proportion={p}, degree={d}, weight={w}, Training RMSE={tr:.3f}, Testing RMSE={te:.3f}\".format(\n",
    "              l=ind, p=ratio, d=degree, w=len(weight), tr=rmse_tr, te=rmse_te))\n",
    "        # plot fit\n",
    "#         plot_fitted_curve(\n",
    "#             y, x, weight, degree, axs[ind // num_col][ind % num_col])\n",
    "\n",
    "        \n",
    "    print(_rmse_te, _rmse_tr)\n",
    "#     plt.hold(False)\n",
    "#     rmse_tr_plt, = plt.plot(lambdas, _rmse_tr, 's-b', label=\"train error\")\n",
    "#     plt.semilogx()\n",
    "#     plt.hold(True)\n",
    "#     rmse_te_plt, = plt.plot(lambdas, _rmse_te, 's-r', label=\"test error\")\n",
    "#     plt.xlabel('lambda')\n",
    "#     plt.ylabel('rmse')\n",
    "#     plt.title('ridge regression for polynomial degree {deg}'.format(deg=degree))\n",
    "#     plt.legend(handles=[rmse_tr_plt, rmse_te_plt])\n",
    "#     plt.show()\n",
    "    plot_train_test(_rmse_tr, _rmse_te, lambdas, degree)\n",
    "seed = 11\n",
    "degree = 7\n",
    "split_ratio = 0.5\n",
    "ridge_regression_demo(x, y, degree, split_ratio, seed)"
   ]
  },
  {
   "cell_type": "code",
   "execution_count": null,
   "metadata": {
    "collapsed": true
   },
   "outputs": [],
   "source": [
    "def polynomial_regression():\n",
    "    \"\"\"Constructing the polynomial basis function expansion of the data,\n",
    "       and then running least squares regression.\"\"\"\n",
    "    # define parameters\n",
    "    degrees = [7]\n",
    "    \n",
    "    # define the structure of figure\n",
    "    num_row = 2\n",
    "    num_col = 2\n",
    "    f, axs = plt.subplots(num_row, num_col)\n",
    "\n",
    "    for ind, degree in enumerate(degrees):\n",
    "        # ***************************************************\n",
    "        # INSERT YOUR CODE HERE\n",
    "        # form the data to do polynomial regression.: TODO\n",
    "        # ***************************************************\n",
    "        x_degree = build_poly(x,degree)\n",
    "        # ***************************************************\n",
    "        # INSERT YOUR CODE HERE\n",
    "        # least square and calculate rmse: TODO\n",
    "        # ***************************************************\n",
    "        lsq_degree, weight = least_squares(y,x_degree)\n",
    "#         print(weight)\n",
    "        rmse = np.sqrt(2*lsq_degree)\n",
    "        print(\"Processing {i}th experiment, degree={d}, rmse={loss}\".format(\n",
    "              i=ind + 1, d=degree, loss=rmse))\n",
    "        # plot fit\n",
    "        plot_fitted_curve(\n",
    "            y, x, weight, degree, axs[ind // num_col][ind % num_col])\n",
    "    plt.tight_layout()\n",
    "    plt.savefig(\"visualize_polynomial_regression\")\n",
    "    plt.show()\n",
    "\n",
    "\n",
    "polynomial_regression()"
   ]
  },
  {
   "cell_type": "code",
   "execution_count": null,
   "metadata": {
    "collapsed": true
   },
   "outputs": [],
   "source": []
  }
 ],
 "metadata": {
  "anaconda-cloud": {},
  "kernelspec": {
   "display_name": "Python 3",
   "language": "python",
   "name": "python3"
  },
  "language_info": {
   "codemirror_mode": {
    "name": "ipython",
    "version": 3
   },
   "file_extension": ".py",
   "mimetype": "text/x-python",
   "name": "python",
   "nbconvert_exporter": "python",
   "pygments_lexer": "ipython3",
   "version": "3.5.2"
  }
 },
 "nbformat": 4,
 "nbformat_minor": 0
}
